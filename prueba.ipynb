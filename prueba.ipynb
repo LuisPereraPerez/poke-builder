{
 "cells": [
  {
   "cell_type": "markdown",
   "metadata": {},
   "source": [
    "# Borrar las columnas del CSV que no vamos a utilizar como la de Generation y la de Legendary"
   ]
  },
  {
   "cell_type": "code",
   "execution_count": 1,
   "metadata": {},
   "outputs": [
    {
     "name": "stdout",
     "output_type": "stream",
     "text": [
      "Las columnas han sido eliminadas y el archivo ha sido guardado como 'archivo_actualizado.csv'.\n"
     ]
    }
   ],
   "source": [
    "import pandas as pd\n",
    "\n",
    "# Cargar el CSV\n",
    "df = pd.read_csv('pokemon.csv')\n",
    "\n",
    "# Eliminar las columnas 'Type 1' y 'HP'\n",
    "df = df.drop(columns=['Generation', 'Legendary'])\n",
    "\n",
    "# Guardar el CSV actualizado\n",
    "df.to_csv('pokemon_actualizado.csv', index=False)\n",
    "\n",
    "print(\"Las columnas han sido eliminadas y el archivo ha sido guardado como 'archivo_actualizado.csv'.\")"
   ]
  },
  {
   "cell_type": "code",
   "execution_count": 2,
   "metadata": {},
   "outputs": [
    {
     "name": "stdout",
     "output_type": "stream",
     "text": [
      "El dataset ha sido actualizado con los nuevos Pokémon.\n"
     ]
    }
   ],
   "source": [
    "import pandas as pd\n",
    "import requests\n",
    "\n",
    "# Cargar el CSV existente (sin las columnas 'Generation' y 'Legendary')\n",
    "df = pd.read_csv('pokemon_actualizado.csv')\n",
    "\n",
    "# Función para obtener el detalle de un Pokémon desde la API\n",
    "def obtener_pokemon(id_pokemon):\n",
    "    url = f'https://pokeapi.co/api/v2/pokemon/{id_pokemon}'\n",
    "    response = requests.get(url)\n",
    "    \n",
    "    if response.status_code == 200:\n",
    "        data = response.json()\n",
    "        return {\n",
    "            'id': data['id'],\n",
    "            'Name': data['name'].capitalize(),\n",
    "            'Type 1': data['types'][0]['type']['name'].capitalize(),\n",
    "            'Type 2': data['types'][1]['type']['name'].capitalize() if len(data['types']) > 1 else '',\n",
    "            'Total': sum(stat['base_stat'] for stat in data['stats']),\n",
    "            'HP': data['stats'][0]['base_stat'],\n",
    "            'Attack': data['stats'][1]['base_stat'],\n",
    "            'Defense': data['stats'][2]['base_stat'],\n",
    "            'Sp. Atk': data['stats'][3]['base_stat'],\n",
    "            'Sp. Def': data['stats'][4]['base_stat'],\n",
    "            'Speed': data['stats'][5]['base_stat'],\n",
    "        }\n",
    "    else:\n",
    "        return None\n",
    "\n",
    "# Recorremos los Pokémon desde el ID 722 hasta el 1025\n",
    "for id_pokemon in range(722, 1026):\n",
    "    pokemon_data = obtener_pokemon(id_pokemon)\n",
    "    if pokemon_data:\n",
    "        # Crear un DataFrame temporal para agregarlo\n",
    "        pokemon_df = pd.DataFrame([pokemon_data])\n",
    "        # Concatenar el nuevo DataFrame al DataFrame principal\n",
    "        df = pd.concat([df, pokemon_df], ignore_index=True)\n",
    "\n",
    "# Guardar el DataFrame actualizado\n",
    "df.to_csv('pokemon_completo.csv', index=False)\n",
    "\n",
    "print(\"El dataset ha sido actualizado con los nuevos Pokémon.\")"
   ]
  },
  {
   "cell_type": "code",
   "execution_count": 1,
   "metadata": {},
   "outputs": [
    {
     "name": "stdout",
     "output_type": "stream",
     "text": [
      "Datos insertados correctamente ✅\n"
     ]
    }
   ],
   "source": [
    "import pandas as pd\n",
    "import uuid\n",
    "from cassandra.cluster import Cluster\n",
    "\n",
    "# Conectar a Cassandra\n",
    "cluster = Cluster(['127.0.0.1'])\n",
    "session = cluster.connect()\n",
    "\n",
    "# Seleccionar Keyspace\n",
    "session.set_keyspace('poke_builder')\n",
    "\n",
    "# Cargar dataset\n",
    "df = pd.read_csv(\"pokemon_completo.csv\")\n",
    "\n",
    "# Insertar datos en Cassandra\n",
    "for _, row in df.iterrows():\n",
    "    session.execute(\"\"\"\n",
    "        INSERT INTO pokemon (id, name, type1, type2, total, hp, attack, defense, sp_attack, sp_defense, speed)\n",
    "        VALUES (%s, %s, %s, %s, %s, %s, %s, %s, %s, %s, %s)\n",
    "    \"\"\", (\n",
    "        uuid.uuid4(),\n",
    "        row['Name'],\n",
    "        row['Type 1'],\n",
    "        None if pd.isna(row['Type 2']) else row['Type 2'],  # Evitar NaN en Type 2\n",
    "        row['Total'],\n",
    "        row['HP'],\n",
    "        row['Attack'],\n",
    "        row['Defense'],\n",
    "        row['Sp. Atk'],\n",
    "        row['Sp. Def'],\n",
    "        row['Speed']\n",
    "    ))\n",
    "\n",
    "print(\"Datos insertados correctamente ✅\")\n"
   ]
  },
  {
   "cell_type": "code",
   "execution_count": 2,
   "metadata": {},
   "outputs": [],
   "source": [
    "# Matriz de efectividad de tipos en Pokemon\n",
    "type_chart = {\n",
    "    'Acero': {'Acero': 0.5, 'Agua': 0.5, 'Eléctrico': 0.5, 'Fuego': 0.5, 'Hada': 2, 'Hielo': 2, 'Roca': 2},\n",
    "    'Agua': {'Fuego': 2, 'Agua': 0.5, 'Planta': 0.5, 'Tierra': 2, 'Roca': 2, 'Dragón': 0.5},\n",
    "    'Bicho': {'Acero': 0.5, 'Fantasma': 0.5, 'Fuego': 0.5, 'Hada': 0.5, 'Lucha': 0.5, 'Planta': 2, 'Psíquico': 2, 'Siniestro': 2, 'Veneno': 0.5},\n",
    "    'Dragón': {'Acero': 0.5, 'Dragón': 2, 'Hada': 0},\n",
    "    'Eléctrico': {'Agua': 2, 'Eléctrico': 0.5, 'Planta': 0.5, 'Tierra': 0, 'Volador': 2, 'Dragón': 0.5},\n",
    "    'Fantasma': {'Fantasma': 2, 'Normal': 0, 'Psíquico': 2, 'Siniestro': 0.5},\n",
    "    'Fuego': {'Fuego': 0.5, 'Agua': 0.5, 'Planta': 2, 'Hielo': 2, 'Bicho': 2, 'Roca': 0.5, 'Dragón': 0.5, 'Acero': 2},\n",
    "    'Hada': {'Acero': 0.5, 'Dragón': 2, 'Fuego': 0.5, 'Lucha': 2, 'Siniestro': 2, 'Veneno': 0.5},\n",
    "    'Hielo': {'Fuego': 0.5, 'Agua': 0.5, 'Planta': 2, 'Hielo': 0.5, 'Tierra': 2, 'Volador': 2, 'Dragón': 2, 'Acero': 0.5},\n",
    "    'Lucha': {'Acero': 2, 'Bicho': 0.5, 'Fantasma': 0, 'Hada': 0.5, 'Hielo': 2,'Normal': 2, 'Psíquico': 0.5, 'Roca': 2, 'Siniestro': 2, 'Veneno': 0.5},\n",
    "    'Normal': {'Roca': 0.5, 'Fantasma': 0, 'Acero': 0.5},\n",
    "    'Planta': {'Fuego': 0.5, 'Agua': 2, 'Planta': 0.5, 'Veneno': 0.5, 'Tierra': 2, 'Volador': 0.5, 'Bicho': 0.5, 'Roca': 2, 'Dragón': 0.5, 'Acero': 0.5},\n",
    "    'Psíquico': {'Acero': 0.5, 'Lucha': 2, 'Psíquico': 0.5, 'Siniestro': 0, 'Veneno': 2},\n",
    "    'Roca': {'Acero': 0.5, 'Bicho': 2, 'Fuego': 2, 'Hielo': 2, 'Lucha': 0.5, 'Tierra': 0.5, 'Volador': 2},\n",
    "    'Siniestro': {'Fantasma': 2, 'Hada': 0.5, 'Lucha': 0.5, 'Psíquico': 2, 'Siniestro': 0.5},\n",
    "    'Tierra': {'Acero': 2, 'Bicho': 0.5, 'Eléctrico': 2, 'Fuego': 2, 'Planta': 0.5, 'Roca': 2, 'Veneno': 2, 'Volador': 0},\n",
    "    'Veneno': {'Acero': 0, 'Hada': 2, 'Planta': 2, 'Roca': 0.5, 'Fantasma': 0.5, 'Veneno': 0.5, 'Tierra': 0.5},\n",
    "    'Volador': {'Acero': 0.5, 'Bicho': 2, 'Eléctrico': 0.5, 'Lucha': 2, 'Planta': 2, 'Roca': 0.5}\n",
    "}"
   ]
  },
  {
   "cell_type": "code",
   "execution_count": 3,
   "metadata": {},
   "outputs": [],
   "source": [
    "# Función para calcular la efectividad ofensiva con manejo de errores\n",
    "def calcular_ofensiva(tipo_atacante, tipos_defensor):\n",
    "    \"\"\"Calcula la efectividad ofensiva del atacante contra el defensor.\"\"\"\n",
    "    multiplicador = 1\n",
    "    if tipo_atacante not in type_chart:\n",
    "        return multiplicador  # Retorna 1 si el tipo atacante no está en la tabla\n",
    "\n",
    "    for tipo_defensor in tipos_defensor:\n",
    "        multiplicador *= type_chart[tipo_atacante].get(tipo_defensor, 1)  # Si no hay valor, asume 1\n",
    "\n",
    "    return multiplicador\n",
    "\n",
    "# Función para calcular la efectividad defensiva\n",
    "def calcular_defensiva(tipos_defensor, tipo_atacante):\n",
    "    \"\"\"Calcula la resistencia del defensor contra el atacante.\"\"\"\n",
    "    return calcular_ofensiva(tipo_atacante, tipos_defensor)\n",
    "\n",
    "# Función mejorada para evaluar el combate\n",
    "def evaluar_combate(tipos_A, tipos_B):\n",
    "    \"\"\"Evalúa la ventaja de A sobre B considerando ataque y defensa.\"\"\"\n",
    "    if not tipos_A or not tipos_B:  # Evita divisiones por cero\n",
    "        return 1\n",
    "\n",
    "    ofensiva_A_vs_B = sum(calcular_ofensiva(tipo, tipos_B) for tipo in tipos_A) / max(len(tipos_A), 1)\n",
    "    defensiva_A_vs_B = sum(calcular_defensiva(tipos_A, tipo) for tipo in tipos_B) / max(len(tipos_B), 1)\n",
    "\n",
    "    return ofensiva_A_vs_B / defensiva_A_vs_B  # A mayor valor, mejor A contra B"
   ]
  },
  {
   "cell_type": "code",
   "execution_count": 4,
   "metadata": {},
   "outputs": [],
   "source": [
    "def recomendar_equipo(equipo_rival):\n",
    "    session = cluster.connect('poke_builder')\n",
    "\n",
    "    # Obtener todos los Pokémon\n",
    "    rows = session.execute(\"SELECT * FROM pokemon\")\n",
    "    mejores_pokemon = []\n",
    "\n",
    "    for pokemon in rows:\n",
    "        ventaja = sum(evaluar_combate([pokemon.type1, pokemon.type2], rival) for rival in equipo_rival)\n",
    "        mejores_pokemon.append((pokemon.name, ventaja))\n",
    "\n",
    "    # Ordenar por mayor ventaja\n",
    "    mejores_pokemon.sort(key=lambda x: x[1], reverse=True)\n",
    "\n",
    "    return [p[0] for p in mejores_pokemon[:6]]  # Devuelve los mejores 6"
   ]
  },
  {
   "cell_type": "code",
   "execution_count": 5,
   "metadata": {},
   "outputs": [
    {
     "name": "stdout",
     "output_type": "stream",
     "text": [
      " * Serving Flask app '__main__'\n",
      " * Debug mode: on\n"
     ]
    },
    {
     "name": "stderr",
     "output_type": "stream",
     "text": [
      "WARNING: This is a development server. Do not use it in a production deployment. Use a production WSGI server instead.\n",
      " * Running on http://127.0.0.1:5000\n",
      "Press CTRL+C to quit\n",
      " * Restarting with watchdog (windowsapi)\n"
     ]
    },
    {
     "ename": "SystemExit",
     "evalue": "1",
     "output_type": "error",
     "traceback": [
      "An exception has occurred, use %tb to see the full traceback.\n",
      "\u001b[1;31mSystemExit\u001b[0m\u001b[1;31m:\u001b[0m 1\n"
     ]
    },
    {
     "name": "stderr",
     "output_type": "stream",
     "text": [
      "C:\\Users\\INES\\AppData\\Local\\Packages\\PythonSoftwareFoundation.Python.3.10_qbz5n2kfra8p0\\LocalCache\\local-packages\\Python310\\site-packages\\IPython\\core\\interactiveshell.py:3561: UserWarning: To exit: use 'exit', 'quit', or Ctrl-D.\n",
      "  warn(\"To exit: use 'exit', 'quit', or Ctrl-D.\", stacklevel=1)\n"
     ]
    }
   ],
   "source": [
    "from flask import Flask, request, jsonify\n",
    "\n",
    "app = Flask(__name__)\n",
    "\n",
    "@app.route('/recomendar', methods=['POST'])\n",
    "def recomendar():\n",
    "    equipo_rival = request.json['equipo']\n",
    "    equipo_recomendado = recomendar_equipo(equipo_rival)\n",
    "    return jsonify({\"equipo_recomendado\": equipo_recomendado})\n",
    "\n",
    "if __name__ == '__main__':\n",
    "    app.run(debug=True)"
   ]
  }
 ],
 "metadata": {
  "kernelspec": {
   "display_name": "Python 3",
   "language": "python",
   "name": "python3"
  },
  "language_info": {
   "codemirror_mode": {
    "name": "ipython",
    "version": 3
   },
   "file_extension": ".py",
   "mimetype": "text/x-python",
   "name": "python",
   "nbconvert_exporter": "python",
   "pygments_lexer": "ipython3",
   "version": "3.10.11"
  }
 },
 "nbformat": 4,
 "nbformat_minor": 2
}
