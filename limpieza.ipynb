{
 "cells": [
  {
   "cell_type": "markdown",
   "metadata": {},
   "source": [
    "### Borrar las columnas del CSV que no vamos a utilizar como la de Generation y la de Legendary"
   ]
  },
  {
   "cell_type": "code",
   "execution_count": null,
   "metadata": {},
   "outputs": [
    {
     "name": "stdout",
     "output_type": "stream",
     "text": [
      "Las columnas han sido eliminadas y el archivo ha sido guardado como 'archivo_actualizado.csv'.\n"
     ]
    }
   ],
   "source": [
    "import pandas as pd\n",
    "\n",
    "# Cargar el CSV\n",
    "df = pd.read_csv('pokemon.csv')\n",
    "\n",
    "df = df.drop(columns=['Generation', 'Legendary'])\n",
    "\n",
    "# Guardar el CSV actualizado\n",
    "df.to_csv('pokemon_actualizado.csv', index=False)\n",
    "\n",
    "print(\"Las columnas han sido eliminadas y el archivo ha sido guardado como 'archivo_actualizado.csv'.\")"
   ]
  },
  {
   "cell_type": "markdown",
   "metadata": {},
   "source": [
    "### Utilizar la API pokeapi para actualizar el dataset con las ultimas generaciones de pokemon"
   ]
  },
  {
   "cell_type": "code",
   "execution_count": 2,
   "metadata": {},
   "outputs": [
    {
     "name": "stdout",
     "output_type": "stream",
     "text": [
      "El dataset ha sido actualizado con los nuevos Pokémon.\n"
     ]
    }
   ],
   "source": [
    "import pandas as pd\n",
    "import requests\n",
    "\n",
    "# Cargar el CSV existente (sin las columnas 'Generation' y 'Legendary')\n",
    "df = pd.read_csv('pokemon_actualizado.csv')\n",
    "\n",
    "# Función para obtener el detalle de un Pokémon desde la API\n",
    "def obtener_pokemon(id_pokemon):\n",
    "    url = f'https://pokeapi.co/api/v2/pokemon/{id_pokemon}'\n",
    "    response = requests.get(url)\n",
    "    \n",
    "    if response.status_code == 200:\n",
    "        data = response.json()\n",
    "        return {\n",
    "            'id': data['id'],\n",
    "            'Name': data['name'].capitalize(),\n",
    "            'Type 1': data['types'][0]['type']['name'].capitalize(),\n",
    "            'Type 2': data['types'][1]['type']['name'].capitalize() if len(data['types']) > 1 else '',\n",
    "            'Total': sum(stat['base_stat'] for stat in data['stats']),\n",
    "            'HP': data['stats'][0]['base_stat'],\n",
    "            'Attack': data['stats'][1]['base_stat'],\n",
    "            'Defense': data['stats'][2]['base_stat'],\n",
    "            'Sp. Atk': data['stats'][3]['base_stat'],\n",
    "            'Sp. Def': data['stats'][4]['base_stat'],\n",
    "            'Speed': data['stats'][5]['base_stat'],\n",
    "        }\n",
    "    else:\n",
    "        return None\n",
    "\n",
    "# Recorremos los Pokémon desde el ID 722 hasta el 1025\n",
    "for id_pokemon in range(722, 1026):\n",
    "    pokemon_data = obtener_pokemon(id_pokemon)\n",
    "    if pokemon_data:\n",
    "        # Crear un DataFrame temporal para agregarlo\n",
    "        pokemon_df = pd.DataFrame([pokemon_data])\n",
    "        # Concatenar el nuevo DataFrame al DataFrame principal\n",
    "        df = pd.concat([df, pokemon_df], ignore_index=True)\n",
    "\n",
    "# Guardar el DataFrame actualizado\n",
    "df.to_csv('pokemon_completo.csv', index=False)\n",
    "\n",
    "print(\"El dataset ha sido actualizado con los nuevos Pokémon.\")"
   ]
  },
  {
   "cell_type": "markdown",
   "metadata": {},
   "source": [
    "## Añadir la columna de generacion para toda la pokedex"
   ]
  },
  {
   "cell_type": "code",
   "execution_count": 2,
   "metadata": {},
   "outputs": [
    {
     "name": "stdout",
     "output_type": "stream",
     "text": [
      "Columna 'Gen' añadida exitosamente!\n"
     ]
    }
   ],
   "source": [
    "import pandas as pd\n",
    "\n",
    "# Leer el archivo CSV\n",
    "df = pd.read_csv('pokemon_completo.csv')\n",
    "\n",
    "# Función para determinar la generación basada en el ID\n",
    "def determinar_generacion(id_pokemon):\n",
    "    if 1 <= id_pokemon <= 151:\n",
    "        return 1\n",
    "    elif 152 <= id_pokemon <= 251:\n",
    "        return 2\n",
    "    elif 252 <= id_pokemon <= 386:\n",
    "        return 3\n",
    "    elif 387 <= id_pokemon <= 493:\n",
    "        return 4\n",
    "    elif 494 <= id_pokemon <= 649:\n",
    "        return 5\n",
    "    elif 650 <= id_pokemon <= 721:\n",
    "        return 6\n",
    "    elif 722 <= id_pokemon <= 809:\n",
    "        return 7\n",
    "    elif 810 <= id_pokemon <= 905:\n",
    "        return 8\n",
    "    elif 906 <= id_pokemon <= 1025:\n",
    "        return 9\n",
    "    else:\n",
    "        return None  # Para IDs fuera de rango\n",
    "\n",
    "# Aplicar la función a la columna 'id' para crear la nueva columna 'Gen'\n",
    "df['Gen'] = df['id'].apply(determinar_generacion)\n",
    "\n",
    "# Guardar el DataFrame actualizado en el mismo archivo CSV\n",
    "df.to_csv('pokemon_completo.csv', index=False)\n",
    "\n",
    "print(\"Columna 'Gen' añadida exitosamente!\")"
   ]
  },
  {
   "cell_type": "markdown",
   "metadata": {},
   "source": [
    "## Añadir la columna de Legendarios para toda la pokedex"
   ]
  },
  {
   "cell_type": "code",
   "execution_count": 5,
   "metadata": {},
   "outputs": [
    {
     "name": "stdout",
     "output_type": "stream",
     "text": [
      "Archivo procesado guardado como: pokemon.csv\n"
     ]
    }
   ],
   "source": [
    "import csv\n",
    "\n",
    "# Tu lista de Pokémon legendarios y singulares\n",
    "pokemon_legendarios_singulares = [\n",
    "    # Legendarios\n",
    "    \"Articuno\", \"Zapdos\", \"Moltres\", \"Mewtwo\",\n",
    "    \"Raikou\", \"Entei\", \"Suicune\", \"Lugia\", \"Ho-Oh\",\n",
    "    \"Regirock\", \"Regice\", \"Registeel\", \"Latias\", \"Latios\", \n",
    "    \"Kyogre\", \"Groudon\", \"Rayquaza\",\n",
    "    \"Uxie\", \"Mesprit\", \"Azelf\", \"Dialga\", \"Palkia\", \n",
    "    \"Heatran\", \"Regigigas\", \"Giratina\", \"Cresselia\",\n",
    "    \"Cobalion\", \"Terrakion\", \"Virizion\", \"Tornadus\", \"Thundurus\",\n",
    "    \"Reshiram\", \"Zekrom\", \"Landorus\", \"Kyurem\",\n",
    "    \"Xerneas\", \"Yveltal\", \"Zygarde\",\n",
    "    \"Código Cero\", \"Silvally\", \"Tapu Koko\", \"Tapu Lele\", \"Tapu Bulu\", \"Tapu Fini\",\n",
    "    \"Cosmog\", \"Cosmoem\", \"Solgaleo\", \"Lunala\", \"Necrozma\",\n",
    "    \"Zacian\", \"Zamazenta\", \"Eternatus\", \"Kubfu\", \"Urshifu\",\n",
    "    \"Regieleki\", \"Regidrago\", \"Glastrier\", \"Spectrier\", \"Calyrex\", \"Enamorus\",\n",
    "    \"Wo-Chien\", \"Chien-Pao\", \"Ting-Lu\", \"Chi-Yu\", \"Koraidon\", \"Miraidon\",\n",
    "    \"Okidogi\", \"Munkidori\", \"Fezandipiti\", \"Ogerpon\", \"Terapagos\",\n",
    "    \n",
    "    # Singulares\n",
    "    \"Mew\", \"Celebi\", \"Jirachi\", \"Deoxys\",\n",
    "    \"Phione\", \"Manaphy\", \"Darkrai\", \"Shaymin\", \"Arceus\",\n",
    "    \"Victini\", \"Keldeo\", \"Meloetta\", \"Genesect\",\n",
    "    \"Diancie\", \"Hoopa\", \"Volcanion\",\n",
    "    \"Magearna\", \"Marshadow\", \"Zeraora\", \"Meltan\", \"Melmetal\",\n",
    "    \"Zarude\", \"Pecharunt\"\n",
    "]\n",
    "\n",
    "# Nombre del archivo de entrada y salida\n",
    "input_file = 'pokemon_completo.csv'\n",
    "output_file = 'pokemon.csv'\n",
    "\n",
    "# Leer el archivo CSV y procesarlo\n",
    "with open(input_file, mode='r', newline='', encoding='utf-8') as infile, \\\n",
    "     open(output_file, mode='w', newline='', encoding='utf-8') as outfile:\n",
    "    \n",
    "    reader = csv.DictReader(infile)\n",
    "    fieldnames = reader.fieldnames\n",
    "    \n",
    "    # Asegurarse de que la columna Legendary existe\n",
    "    if 'Legendary' not in fieldnames:\n",
    "        fieldnames.append('Legendary')\n",
    "    \n",
    "    writer = csv.DictWriter(outfile, fieldnames=fieldnames)\n",
    "    writer.writeheader()\n",
    "    \n",
    "    for row in reader:\n",
    "        # Determinar si es legendario/singular\n",
    "        if row['Name'] in pokemon_legendarios_singulares:\n",
    "            row['Legendary'] = 'Si'\n",
    "        else:\n",
    "            row['Legendary'] = 'No'\n",
    "        \n",
    "        writer.writerow(row)\n",
    "\n",
    "print(f\"Archivo procesado guardado como: {output_file}\")\n",
    "\n"
   ]
  }
 ],
 "metadata": {
  "kernelspec": {
   "display_name": "Python 3",
   "language": "python",
   "name": "python3"
  },
  "language_info": {
   "codemirror_mode": {
    "name": "ipython",
    "version": 3
   },
   "file_extension": ".py",
   "mimetype": "text/x-python",
   "name": "python",
   "nbconvert_exporter": "python",
   "pygments_lexer": "ipython3",
   "version": "3.10.11"
  }
 },
 "nbformat": 4,
 "nbformat_minor": 2
}
